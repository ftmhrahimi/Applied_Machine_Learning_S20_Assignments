{
 "cells": [
  {
   "cell_type": "markdown",
   "metadata": {},
   "source": [
    "## Preprocessing"
   ]
  },
  {
   "cell_type": "code",
   "execution_count": 2,
   "metadata": {},
   "outputs": [],
   "source": [
    "import pandas as pd\n",
    "import numpy as np\n",
    "import matplotlib.pyplot as plt\n",
    "from sklearn.preprocessing import StandardScaler\n",
    "from sklearn.decomposition import PCA\n",
    "df=pd.read_csv(\"car.csv\")"
   ]
  },
  {
   "cell_type": "code",
   "execution_count": 3,
   "metadata": {},
   "outputs": [],
   "source": [
    "import pandas as pd\n",
    "from numpy import array\n",
    "from sklearn.preprocessing import LabelEncoder\n",
    "for i in df.columns:\n",
    "    values =array(df[i])\n",
    "    label_encoder = LabelEncoder()\n",
    "    integer_encoded = label_encoder.fit_transform(values)\n",
    "    values=pd.DataFrame(integer_encoded)\n",
    "    df=df.drop([i],axis=1)\n",
    "    df= pd.concat([values, df], axis=1, join='inner')\n",
    "    df.rename(columns={0:i}, inplace=True)"
   ]
  },
  {
   "cell_type": "code",
   "execution_count": 14,
   "metadata": {},
   "outputs": [
    {
     "data": {
      "text/html": [
       "<style  type=\"text/css\" >\n",
       "    #T_d6713c7a_b2c6_11ea_95d4_c0f8dac7bcebrow0_col0 {\n",
       "            background-color:  #b40426;\n",
       "            color:  #f1f1f1;\n",
       "        }    #T_d6713c7a_b2c6_11ea_95d4_c0f8dac7bcebrow0_col1 {\n",
       "            background-color:  #3b4cc0;\n",
       "            color:  #f1f1f1;\n",
       "        }    #T_d6713c7a_b2c6_11ea_95d4_c0f8dac7bcebrow0_col2 {\n",
       "            background-color:  #445acc;\n",
       "            color:  #f1f1f1;\n",
       "        }    #T_d6713c7a_b2c6_11ea_95d4_c0f8dac7bcebrow0_col3 {\n",
       "            background-color:  #3b4cc0;\n",
       "            color:  #f1f1f1;\n",
       "        }    #T_d6713c7a_b2c6_11ea_95d4_c0f8dac7bcebrow0_col4 {\n",
       "            background-color:  #3b4cc0;\n",
       "            color:  #f1f1f1;\n",
       "        }    #T_d6713c7a_b2c6_11ea_95d4_c0f8dac7bcebrow0_col5 {\n",
       "            background-color:  #465ecf;\n",
       "            color:  #f1f1f1;\n",
       "        }    #T_d6713c7a_b2c6_11ea_95d4_c0f8dac7bcebrow0_col6 {\n",
       "            background-color:  #4a63d3;\n",
       "            color:  #f1f1f1;\n",
       "        }    #T_d6713c7a_b2c6_11ea_95d4_c0f8dac7bcebrow1_col0 {\n",
       "            background-color:  #80a3fa;\n",
       "            color:  #000000;\n",
       "        }    #T_d6713c7a_b2c6_11ea_95d4_c0f8dac7bcebrow1_col1 {\n",
       "            background-color:  #b40426;\n",
       "            color:  #f1f1f1;\n",
       "        }    #T_d6713c7a_b2c6_11ea_95d4_c0f8dac7bcebrow1_col2 {\n",
       "            background-color:  #3b4cc0;\n",
       "            color:  #f1f1f1;\n",
       "        }    #T_d6713c7a_b2c6_11ea_95d4_c0f8dac7bcebrow1_col3 {\n",
       "            background-color:  #85a8fc;\n",
       "            color:  #000000;\n",
       "        }    #T_d6713c7a_b2c6_11ea_95d4_c0f8dac7bcebrow1_col4 {\n",
       "            background-color:  #4358cb;\n",
       "            color:  #f1f1f1;\n",
       "        }    #T_d6713c7a_b2c6_11ea_95d4_c0f8dac7bcebrow1_col5 {\n",
       "            background-color:  #3b4cc0;\n",
       "            color:  #f1f1f1;\n",
       "        }    #T_d6713c7a_b2c6_11ea_95d4_c0f8dac7bcebrow1_col6 {\n",
       "            background-color:  #3b4cc0;\n",
       "            color:  #f1f1f1;\n",
       "        }    #T_d6713c7a_b2c6_11ea_95d4_c0f8dac7bcebrow2_col0 {\n",
       "            background-color:  #8fb1fe;\n",
       "            color:  #000000;\n",
       "        }    #T_d6713c7a_b2c6_11ea_95d4_c0f8dac7bcebrow2_col1 {\n",
       "            background-color:  #4055c8;\n",
       "            color:  #f1f1f1;\n",
       "        }    #T_d6713c7a_b2c6_11ea_95d4_c0f8dac7bcebrow2_col2 {\n",
       "            background-color:  #b40426;\n",
       "            color:  #f1f1f1;\n",
       "        }    #T_d6713c7a_b2c6_11ea_95d4_c0f8dac7bcebrow2_col3 {\n",
       "            background-color:  #85a8fc;\n",
       "            color:  #000000;\n",
       "        }    #T_d6713c7a_b2c6_11ea_95d4_c0f8dac7bcebrow2_col4 {\n",
       "            background-color:  #4358cb;\n",
       "            color:  #f1f1f1;\n",
       "        }    #T_d6713c7a_b2c6_11ea_95d4_c0f8dac7bcebrow2_col5 {\n",
       "            background-color:  #3b4cc0;\n",
       "            color:  #f1f1f1;\n",
       "        }    #T_d6713c7a_b2c6_11ea_95d4_c0f8dac7bcebrow2_col6 {\n",
       "            background-color:  #3b4cc0;\n",
       "            color:  #f1f1f1;\n",
       "        }    #T_d6713c7a_b2c6_11ea_95d4_c0f8dac7bcebrow3_col0 {\n",
       "            background-color:  #3b4cc0;\n",
       "            color:  #f1f1f1;\n",
       "        }    #T_d6713c7a_b2c6_11ea_95d4_c0f8dac7bcebrow3_col1 {\n",
       "            background-color:  #4055c8;\n",
       "            color:  #f1f1f1;\n",
       "        }    #T_d6713c7a_b2c6_11ea_95d4_c0f8dac7bcebrow3_col2 {\n",
       "            background-color:  #3b4cc0;\n",
       "            color:  #f1f1f1;\n",
       "        }    #T_d6713c7a_b2c6_11ea_95d4_c0f8dac7bcebrow3_col3 {\n",
       "            background-color:  #b40426;\n",
       "            color:  #f1f1f1;\n",
       "        }    #T_d6713c7a_b2c6_11ea_95d4_c0f8dac7bcebrow3_col4 {\n",
       "            background-color:  #4358cb;\n",
       "            color:  #f1f1f1;\n",
       "        }    #T_d6713c7a_b2c6_11ea_95d4_c0f8dac7bcebrow3_col5 {\n",
       "            background-color:  #3b4cc0;\n",
       "            color:  #f1f1f1;\n",
       "        }    #T_d6713c7a_b2c6_11ea_95d4_c0f8dac7bcebrow3_col6 {\n",
       "            background-color:  #3b4cc0;\n",
       "            color:  #f1f1f1;\n",
       "        }    #T_d6713c7a_b2c6_11ea_95d4_c0f8dac7bcebrow4_col0 {\n",
       "            background-color:  #7da0f9;\n",
       "            color:  #000000;\n",
       "        }    #T_d6713c7a_b2c6_11ea_95d4_c0f8dac7bcebrow4_col1 {\n",
       "            background-color:  #4055c8;\n",
       "            color:  #f1f1f1;\n",
       "        }    #T_d6713c7a_b2c6_11ea_95d4_c0f8dac7bcebrow4_col2 {\n",
       "            background-color:  #3b4cc0;\n",
       "            color:  #f1f1f1;\n",
       "        }    #T_d6713c7a_b2c6_11ea_95d4_c0f8dac7bcebrow4_col3 {\n",
       "            background-color:  #85a8fc;\n",
       "            color:  #000000;\n",
       "        }    #T_d6713c7a_b2c6_11ea_95d4_c0f8dac7bcebrow4_col4 {\n",
       "            background-color:  #b40426;\n",
       "            color:  #f1f1f1;\n",
       "        }    #T_d6713c7a_b2c6_11ea_95d4_c0f8dac7bcebrow4_col5 {\n",
       "            background-color:  #3b4cc0;\n",
       "            color:  #f1f1f1;\n",
       "        }    #T_d6713c7a_b2c6_11ea_95d4_c0f8dac7bcebrow4_col6 {\n",
       "            background-color:  #3b4cc0;\n",
       "            color:  #f1f1f1;\n",
       "        }    #T_d6713c7a_b2c6_11ea_95d4_c0f8dac7bcebrow5_col0 {\n",
       "            background-color:  #90b2fe;\n",
       "            color:  #000000;\n",
       "        }    #T_d6713c7a_b2c6_11ea_95d4_c0f8dac7bcebrow5_col1 {\n",
       "            background-color:  #4055c8;\n",
       "            color:  #f1f1f1;\n",
       "        }    #T_d6713c7a_b2c6_11ea_95d4_c0f8dac7bcebrow5_col2 {\n",
       "            background-color:  #3b4cc0;\n",
       "            color:  #f1f1f1;\n",
       "        }    #T_d6713c7a_b2c6_11ea_95d4_c0f8dac7bcebrow5_col3 {\n",
       "            background-color:  #85a8fc;\n",
       "            color:  #000000;\n",
       "        }    #T_d6713c7a_b2c6_11ea_95d4_c0f8dac7bcebrow5_col4 {\n",
       "            background-color:  #4358cb;\n",
       "            color:  #f1f1f1;\n",
       "        }    #T_d6713c7a_b2c6_11ea_95d4_c0f8dac7bcebrow5_col5 {\n",
       "            background-color:  #b40426;\n",
       "            color:  #f1f1f1;\n",
       "        }    #T_d6713c7a_b2c6_11ea_95d4_c0f8dac7bcebrow5_col6 {\n",
       "            background-color:  #3b4cc0;\n",
       "            color:  #f1f1f1;\n",
       "        }    #T_d6713c7a_b2c6_11ea_95d4_c0f8dac7bcebrow6_col0 {\n",
       "            background-color:  #94b6ff;\n",
       "            color:  #000000;\n",
       "        }    #T_d6713c7a_b2c6_11ea_95d4_c0f8dac7bcebrow6_col1 {\n",
       "            background-color:  #4055c8;\n",
       "            color:  #f1f1f1;\n",
       "        }    #T_d6713c7a_b2c6_11ea_95d4_c0f8dac7bcebrow6_col2 {\n",
       "            background-color:  #3b4cc0;\n",
       "            color:  #f1f1f1;\n",
       "        }    #T_d6713c7a_b2c6_11ea_95d4_c0f8dac7bcebrow6_col3 {\n",
       "            background-color:  #85a8fc;\n",
       "            color:  #000000;\n",
       "        }    #T_d6713c7a_b2c6_11ea_95d4_c0f8dac7bcebrow6_col4 {\n",
       "            background-color:  #4358cb;\n",
       "            color:  #f1f1f1;\n",
       "        }    #T_d6713c7a_b2c6_11ea_95d4_c0f8dac7bcebrow6_col5 {\n",
       "            background-color:  #3b4cc0;\n",
       "            color:  #f1f1f1;\n",
       "        }    #T_d6713c7a_b2c6_11ea_95d4_c0f8dac7bcebrow6_col6 {\n",
       "            background-color:  #b40426;\n",
       "            color:  #f1f1f1;\n",
       "        }</style><table id=\"T_d6713c7a_b2c6_11ea_95d4_c0f8dac7bceb\" ><thead>    <tr>        <th class=\"blank level0\" ></th>        <th class=\"col_heading level0 col0\" >class</th>        <th class=\"col_heading level0 col1\" >safety</th>        <th class=\"col_heading level0 col2\" >lug_boot</th>        <th class=\"col_heading level0 col3\" >persons</th>        <th class=\"col_heading level0 col4\" >doors</th>        <th class=\"col_heading level0 col5\" >maint</th>        <th class=\"col_heading level0 col6\" >buying</th>    </tr></thead><tbody>\n",
       "                <tr>\n",
       "                        <th id=\"T_d6713c7a_b2c6_11ea_95d4_c0f8dac7bceblevel0_row0\" class=\"row_heading level0 row0\" >class</th>\n",
       "                        <td id=\"T_d6713c7a_b2c6_11ea_95d4_c0f8dac7bcebrow0_col0\" class=\"data row0 col0\" >1</td>\n",
       "                        <td id=\"T_d6713c7a_b2c6_11ea_95d4_c0f8dac7bcebrow0_col1\" class=\"data row0 col1\" >-0.0210437</td>\n",
       "                        <td id=\"T_d6713c7a_b2c6_11ea_95d4_c0f8dac7bcebrow0_col2\" class=\"data row0 col2\" >0.0331843</td>\n",
       "                        <td id=\"T_d6713c7a_b2c6_11ea_95d4_c0f8dac7bcebrow0_col3\" class=\"data row0 col3\" >-0.299468</td>\n",
       "                        <td id=\"T_d6713c7a_b2c6_11ea_95d4_c0f8dac7bcebrow0_col4\" class=\"data row0 col4\" >-0.0313274</td>\n",
       "                        <td id=\"T_d6713c7a_b2c6_11ea_95d4_c0f8dac7bcebrow0_col5\" class=\"data row0 col5\" >0.0401936</td>\n",
       "                        <td id=\"T_d6713c7a_b2c6_11ea_95d4_c0f8dac7bcebrow0_col6\" class=\"data row0 col6\" >0.0514242</td>\n",
       "            </tr>\n",
       "            <tr>\n",
       "                        <th id=\"T_d6713c7a_b2c6_11ea_95d4_c0f8dac7bceblevel0_row1\" class=\"row_heading level0 row1\" >safety</th>\n",
       "                        <td id=\"T_d6713c7a_b2c6_11ea_95d4_c0f8dac7bcebrow1_col0\" class=\"data row1 col0\" >-0.0210437</td>\n",
       "                        <td id=\"T_d6713c7a_b2c6_11ea_95d4_c0f8dac7bcebrow1_col1\" class=\"data row1 col1\" >1</td>\n",
       "                        <td id=\"T_d6713c7a_b2c6_11ea_95d4_c0f8dac7bcebrow1_col2\" class=\"data row1 col2\" >0</td>\n",
       "                        <td id=\"T_d6713c7a_b2c6_11ea_95d4_c0f8dac7bcebrow1_col3\" class=\"data row1 col3\" >0</td>\n",
       "                        <td id=\"T_d6713c7a_b2c6_11ea_95d4_c0f8dac7bcebrow1_col4\" class=\"data row1 col4\" >0</td>\n",
       "                        <td id=\"T_d6713c7a_b2c6_11ea_95d4_c0f8dac7bcebrow1_col5\" class=\"data row1 col5\" >0</td>\n",
       "                        <td id=\"T_d6713c7a_b2c6_11ea_95d4_c0f8dac7bcebrow1_col6\" class=\"data row1 col6\" >0</td>\n",
       "            </tr>\n",
       "            <tr>\n",
       "                        <th id=\"T_d6713c7a_b2c6_11ea_95d4_c0f8dac7bceblevel0_row2\" class=\"row_heading level0 row2\" >lug_boot</th>\n",
       "                        <td id=\"T_d6713c7a_b2c6_11ea_95d4_c0f8dac7bcebrow2_col0\" class=\"data row2 col0\" >0.0331843</td>\n",
       "                        <td id=\"T_d6713c7a_b2c6_11ea_95d4_c0f8dac7bcebrow2_col1\" class=\"data row2 col1\" >0</td>\n",
       "                        <td id=\"T_d6713c7a_b2c6_11ea_95d4_c0f8dac7bcebrow2_col2\" class=\"data row2 col2\" >1</td>\n",
       "                        <td id=\"T_d6713c7a_b2c6_11ea_95d4_c0f8dac7bcebrow2_col3\" class=\"data row2 col3\" >0</td>\n",
       "                        <td id=\"T_d6713c7a_b2c6_11ea_95d4_c0f8dac7bcebrow2_col4\" class=\"data row2 col4\" >0</td>\n",
       "                        <td id=\"T_d6713c7a_b2c6_11ea_95d4_c0f8dac7bcebrow2_col5\" class=\"data row2 col5\" >0</td>\n",
       "                        <td id=\"T_d6713c7a_b2c6_11ea_95d4_c0f8dac7bcebrow2_col6\" class=\"data row2 col6\" >0</td>\n",
       "            </tr>\n",
       "            <tr>\n",
       "                        <th id=\"T_d6713c7a_b2c6_11ea_95d4_c0f8dac7bceblevel0_row3\" class=\"row_heading level0 row3\" >persons</th>\n",
       "                        <td id=\"T_d6713c7a_b2c6_11ea_95d4_c0f8dac7bcebrow3_col0\" class=\"data row3 col0\" >-0.299468</td>\n",
       "                        <td id=\"T_d6713c7a_b2c6_11ea_95d4_c0f8dac7bcebrow3_col1\" class=\"data row3 col1\" >0</td>\n",
       "                        <td id=\"T_d6713c7a_b2c6_11ea_95d4_c0f8dac7bcebrow3_col2\" class=\"data row3 col2\" >0</td>\n",
       "                        <td id=\"T_d6713c7a_b2c6_11ea_95d4_c0f8dac7bcebrow3_col3\" class=\"data row3 col3\" >1</td>\n",
       "                        <td id=\"T_d6713c7a_b2c6_11ea_95d4_c0f8dac7bcebrow3_col4\" class=\"data row3 col4\" >0</td>\n",
       "                        <td id=\"T_d6713c7a_b2c6_11ea_95d4_c0f8dac7bcebrow3_col5\" class=\"data row3 col5\" >0</td>\n",
       "                        <td id=\"T_d6713c7a_b2c6_11ea_95d4_c0f8dac7bcebrow3_col6\" class=\"data row3 col6\" >0</td>\n",
       "            </tr>\n",
       "            <tr>\n",
       "                        <th id=\"T_d6713c7a_b2c6_11ea_95d4_c0f8dac7bceblevel0_row4\" class=\"row_heading level0 row4\" >doors</th>\n",
       "                        <td id=\"T_d6713c7a_b2c6_11ea_95d4_c0f8dac7bcebrow4_col0\" class=\"data row4 col0\" >-0.0313274</td>\n",
       "                        <td id=\"T_d6713c7a_b2c6_11ea_95d4_c0f8dac7bcebrow4_col1\" class=\"data row4 col1\" >0</td>\n",
       "                        <td id=\"T_d6713c7a_b2c6_11ea_95d4_c0f8dac7bcebrow4_col2\" class=\"data row4 col2\" >0</td>\n",
       "                        <td id=\"T_d6713c7a_b2c6_11ea_95d4_c0f8dac7bcebrow4_col3\" class=\"data row4 col3\" >0</td>\n",
       "                        <td id=\"T_d6713c7a_b2c6_11ea_95d4_c0f8dac7bcebrow4_col4\" class=\"data row4 col4\" >1</td>\n",
       "                        <td id=\"T_d6713c7a_b2c6_11ea_95d4_c0f8dac7bcebrow4_col5\" class=\"data row4 col5\" >0</td>\n",
       "                        <td id=\"T_d6713c7a_b2c6_11ea_95d4_c0f8dac7bcebrow4_col6\" class=\"data row4 col6\" >0</td>\n",
       "            </tr>\n",
       "            <tr>\n",
       "                        <th id=\"T_d6713c7a_b2c6_11ea_95d4_c0f8dac7bceblevel0_row5\" class=\"row_heading level0 row5\" >maint</th>\n",
       "                        <td id=\"T_d6713c7a_b2c6_11ea_95d4_c0f8dac7bcebrow5_col0\" class=\"data row5 col0\" >0.0401936</td>\n",
       "                        <td id=\"T_d6713c7a_b2c6_11ea_95d4_c0f8dac7bcebrow5_col1\" class=\"data row5 col1\" >0</td>\n",
       "                        <td id=\"T_d6713c7a_b2c6_11ea_95d4_c0f8dac7bcebrow5_col2\" class=\"data row5 col2\" >0</td>\n",
       "                        <td id=\"T_d6713c7a_b2c6_11ea_95d4_c0f8dac7bcebrow5_col3\" class=\"data row5 col3\" >0</td>\n",
       "                        <td id=\"T_d6713c7a_b2c6_11ea_95d4_c0f8dac7bcebrow5_col4\" class=\"data row5 col4\" >0</td>\n",
       "                        <td id=\"T_d6713c7a_b2c6_11ea_95d4_c0f8dac7bcebrow5_col5\" class=\"data row5 col5\" >1</td>\n",
       "                        <td id=\"T_d6713c7a_b2c6_11ea_95d4_c0f8dac7bcebrow5_col6\" class=\"data row5 col6\" >0</td>\n",
       "            </tr>\n",
       "            <tr>\n",
       "                        <th id=\"T_d6713c7a_b2c6_11ea_95d4_c0f8dac7bceblevel0_row6\" class=\"row_heading level0 row6\" >buying</th>\n",
       "                        <td id=\"T_d6713c7a_b2c6_11ea_95d4_c0f8dac7bcebrow6_col0\" class=\"data row6 col0\" >0.0514242</td>\n",
       "                        <td id=\"T_d6713c7a_b2c6_11ea_95d4_c0f8dac7bcebrow6_col1\" class=\"data row6 col1\" >0</td>\n",
       "                        <td id=\"T_d6713c7a_b2c6_11ea_95d4_c0f8dac7bcebrow6_col2\" class=\"data row6 col2\" >0</td>\n",
       "                        <td id=\"T_d6713c7a_b2c6_11ea_95d4_c0f8dac7bcebrow6_col3\" class=\"data row6 col3\" >0</td>\n",
       "                        <td id=\"T_d6713c7a_b2c6_11ea_95d4_c0f8dac7bcebrow6_col4\" class=\"data row6 col4\" >0</td>\n",
       "                        <td id=\"T_d6713c7a_b2c6_11ea_95d4_c0f8dac7bcebrow6_col5\" class=\"data row6 col5\" >0</td>\n",
       "                        <td id=\"T_d6713c7a_b2c6_11ea_95d4_c0f8dac7bcebrow6_col6\" class=\"data row6 col6\" >1</td>\n",
       "            </tr>\n",
       "    </tbody></table>"
      ],
      "text/plain": [
       "<pandas.io.formats.style.Styler at 0xccc4c48>"
      ]
     },
     "execution_count": 14,
     "metadata": {},
     "output_type": "execute_result"
    }
   ],
   "source": [
    "import pandas as pd\n",
    "import numpy as np\n",
    "corr = df.corr()\n",
    "corr.style.background_gradient(cmap='coolwarm')"
   ]
  },
  {
   "cell_type": "code",
   "execution_count": 5,
   "metadata": {},
   "outputs": [],
   "source": [
    "#plt.scatter(df.iloc[:,3],df.iloc[:,6])\n",
    "cl=df.iloc[:,0]\n",
    "df.drop([\"class\"],axis=1)\n",
    "scaler=StandardScaler()\n",
    "df_std=scaler.fit_transform(df)"
   ]
  },
  {
   "cell_type": "code",
   "execution_count": 6,
   "metadata": {},
   "outputs": [
    {
     "data": {
      "text/plain": [
       "array([0.18722727, 0.14285714, 0.14285714, 0.14285714, 0.14285714,\n",
       "       0.14285714, 0.09848702])"
      ]
     },
     "execution_count": 6,
     "metadata": {},
     "output_type": "execute_result"
    }
   ],
   "source": [
    "pca=PCA()\n",
    "pca.fit(df_std)\n",
    "pca.explained_variance_ratio_"
   ]
  },
  {
   "cell_type": "code",
   "execution_count": 7,
   "metadata": {},
   "outputs": [
    {
     "data": {
      "text/plain": [
       "[<matplotlib.lines.Line2D at 0xc010108>]"
      ]
     },
     "execution_count": 7,
     "metadata": {},
     "output_type": "execute_result"
    },
    {
     "data": {
      "image/png": "[encoded data removed]",
      "text/plain": [
       "<Figure size 432x288 with 1 Axes>"
      ]
     },
     "metadata": {
      "needs_background": "light"
     },
     "output_type": "display_data"
    }
   ],
   "source": [
    "plt.plot(range(1,8),pca.explained_variance_ratio_.cumsum(),marker=\"o\",linestyle=\"--\")"
   ]
  },
  {
   "cell_type": "code",
   "execution_count": 8,
   "metadata": {},
   "outputs": [],
   "source": [
    "pca=PCA(n_components=4)\n",
    "pca.fit(df_std)\n",
    "scores_pca=pca.transform(df_std)"
   ]
  },
  {
   "cell_type": "markdown",
   "metadata": {},
   "source": [
    "## Clustering"
   ]
  },
  {
   "cell_type": "markdown",
   "metadata": {},
   "source": [
    "#### K-means"
   ]
  },
  {
   "cell_type": "code",
   "execution_count": 11,
   "metadata": {},
   "outputs": [
    {
     "data": {
      "text/plain": [
       "PCA(copy=True, iterated_power='auto', n_components=4, random_state=None,\n",
       "    svd_solver='auto', tol=0.0, whiten=False)"
      ]
     },
     "execution_count": 11,
     "metadata": {},
     "output_type": "execute_result"
    }
   ],
   "source": [
    "from sklearn.cluster import KMeans\n",
    "kmeans_pca = KMeans(n_clusters=4,random_state=42)\n",
    "labels = kmeans_pca.fit_predict(df)\n",
    "pca.fit(scores_pca)"
   ]
  },
  {
   "cell_type": "code",
   "execution_count": 15,
   "metadata": {},
   "outputs": [
    {
     "data": {
      "text/html": [
       "<div>\n",
       "<style scoped>\n",
       "    .dataframe tbody tr th:only-of-type {\n",
       "        vertical-align: middle;\n",
       "    }\n",
       "\n",
       "    .dataframe tbody tr th {\n",
       "        vertical-align: top;\n",
       "    }\n",
       "\n",
       "    .dataframe thead th {\n",
       "        text-align: right;\n",
       "    }\n",
       "</style>\n",
       "<table border=\"1\" class=\"dataframe\">\n",
       "  <thead>\n",
       "    <tr style=\"text-align: right;\">\n",
       "      <th></th>\n",
       "      <th>class</th>\n",
       "      <th>safety</th>\n",
       "      <th>lug_boot</th>\n",
       "      <th>persons</th>\n",
       "      <th>doors</th>\n",
       "      <th>maint</th>\n",
       "      <th>buying</th>\n",
       "      <th>com1</th>\n",
       "      <th>com2</th>\n",
       "      <th>com3</th>\n",
       "      <th>com4</th>\n",
       "      <th>class k-means pca</th>\n",
       "    </tr>\n",
       "  </thead>\n",
       "  <tbody>\n",
       "    <tr>\n",
       "      <td>0</td>\n",
       "      <td>2</td>\n",
       "      <td>1</td>\n",
       "      <td>2</td>\n",
       "      <td>0</td>\n",
       "      <td>0</td>\n",
       "      <td>3</td>\n",
       "      <td>3</td>\n",
       "      <td>-1.663820</td>\n",
       "      <td>0.534425</td>\n",
       "      <td>2.006022</td>\n",
       "      <td>-0.783654</td>\n",
       "      <td>0</td>\n",
       "    </tr>\n",
       "    <tr>\n",
       "      <td>1</td>\n",
       "      <td>2</td>\n",
       "      <td>2</td>\n",
       "      <td>2</td>\n",
       "      <td>0</td>\n",
       "      <td>0</td>\n",
       "      <td>3</td>\n",
       "      <td>3</td>\n",
       "      <td>-1.605143</td>\n",
       "      <td>1.142401</td>\n",
       "      <td>1.751271</td>\n",
       "      <td>-1.212944</td>\n",
       "      <td>0</td>\n",
       "    </tr>\n",
       "    <tr>\n",
       "      <td>2</td>\n",
       "      <td>2</td>\n",
       "      <td>0</td>\n",
       "      <td>2</td>\n",
       "      <td>0</td>\n",
       "      <td>0</td>\n",
       "      <td>3</td>\n",
       "      <td>3</td>\n",
       "      <td>-1.722496</td>\n",
       "      <td>-0.073550</td>\n",
       "      <td>2.260773</td>\n",
       "      <td>-0.354364</td>\n",
       "      <td>0</td>\n",
       "    </tr>\n",
       "    <tr>\n",
       "      <td>3</td>\n",
       "      <td>2</td>\n",
       "      <td>1</td>\n",
       "      <td>1</td>\n",
       "      <td>0</td>\n",
       "      <td>0</td>\n",
       "      <td>3</td>\n",
       "      <td>3</td>\n",
       "      <td>-1.571292</td>\n",
       "      <td>0.829880</td>\n",
       "      <td>1.155187</td>\n",
       "      <td>-1.237601</td>\n",
       "      <td>0</td>\n",
       "    </tr>\n",
       "    <tr>\n",
       "      <td>4</td>\n",
       "      <td>2</td>\n",
       "      <td>2</td>\n",
       "      <td>1</td>\n",
       "      <td>0</td>\n",
       "      <td>0</td>\n",
       "      <td>3</td>\n",
       "      <td>3</td>\n",
       "      <td>-1.512615</td>\n",
       "      <td>1.437855</td>\n",
       "      <td>0.900436</td>\n",
       "      <td>-1.666891</td>\n",
       "      <td>0</td>\n",
       "    </tr>\n",
       "    <tr>\n",
       "      <td>...</td>\n",
       "      <td>...</td>\n",
       "      <td>...</td>\n",
       "      <td>...</td>\n",
       "      <td>...</td>\n",
       "      <td>...</td>\n",
       "      <td>...</td>\n",
       "      <td>...</td>\n",
       "      <td>...</td>\n",
       "      <td>...</td>\n",
       "      <td>...</td>\n",
       "      <td>...</td>\n",
       "      <td>...</td>\n",
       "    </tr>\n",
       "    <tr>\n",
       "      <td>1723</td>\n",
       "      <td>1</td>\n",
       "      <td>2</td>\n",
       "      <td>1</td>\n",
       "      <td>2</td>\n",
       "      <td>3</td>\n",
       "      <td>1</td>\n",
       "      <td>1</td>\n",
       "      <td>1.529389</td>\n",
       "      <td>0.683482</td>\n",
       "      <td>-0.795798</td>\n",
       "      <td>0.668515</td>\n",
       "      <td>1</td>\n",
       "    </tr>\n",
       "    <tr>\n",
       "      <td>1724</td>\n",
       "      <td>3</td>\n",
       "      <td>0</td>\n",
       "      <td>1</td>\n",
       "      <td>2</td>\n",
       "      <td>3</td>\n",
       "      <td>1</td>\n",
       "      <td>1</td>\n",
       "      <td>-0.202926</td>\n",
       "      <td>-0.532469</td>\n",
       "      <td>-0.286297</td>\n",
       "      <td>1.527096</td>\n",
       "      <td>2</td>\n",
       "    </tr>\n",
       "    <tr>\n",
       "      <td>1725</td>\n",
       "      <td>2</td>\n",
       "      <td>1</td>\n",
       "      <td>0</td>\n",
       "      <td>2</td>\n",
       "      <td>3</td>\n",
       "      <td>1</td>\n",
       "      <td>1</td>\n",
       "      <td>0.755760</td>\n",
       "      <td>0.370961</td>\n",
       "      <td>-1.391883</td>\n",
       "      <td>0.643859</td>\n",
       "      <td>2</td>\n",
       "    </tr>\n",
       "    <tr>\n",
       "      <td>1726</td>\n",
       "      <td>1</td>\n",
       "      <td>2</td>\n",
       "      <td>0</td>\n",
       "      <td>2</td>\n",
       "      <td>3</td>\n",
       "      <td>1</td>\n",
       "      <td>1</td>\n",
       "      <td>1.621917</td>\n",
       "      <td>0.978937</td>\n",
       "      <td>-1.646633</td>\n",
       "      <td>0.214568</td>\n",
       "      <td>1</td>\n",
       "    </tr>\n",
       "    <tr>\n",
       "      <td>1727</td>\n",
       "      <td>3</td>\n",
       "      <td>0</td>\n",
       "      <td>0</td>\n",
       "      <td>2</td>\n",
       "      <td>3</td>\n",
       "      <td>1</td>\n",
       "      <td>1</td>\n",
       "      <td>-0.110398</td>\n",
       "      <td>-0.237015</td>\n",
       "      <td>-1.137132</td>\n",
       "      <td>1.073149</td>\n",
       "      <td>2</td>\n",
       "    </tr>\n",
       "  </tbody>\n",
       "</table>\n",
       "<p>1728 rows × 12 columns</p>\n",
       "</div>"
      ],
      "text/plain": [
       "      class  safety  lug_boot  persons  doors  maint  buying      com1  \\\n",
       "0         2       1         2        0      0      3       3 -1.663820   \n",
       "1         2       2         2        0      0      3       3 -1.605143   \n",
       "2         2       0         2        0      0      3       3 -1.722496   \n",
       "3         2       1         1        0      0      3       3 -1.571292   \n",
       "4         2       2         1        0      0      3       3 -1.512615   \n",
       "...     ...     ...       ...      ...    ...    ...     ...       ...   \n",
       "1723      1       2         1        2      3      1       1  1.529389   \n",
       "1724      3       0         1        2      3      1       1 -0.202926   \n",
       "1725      2       1         0        2      3      1       1  0.755760   \n",
       "1726      1       2         0        2      3      1       1  1.621917   \n",
       "1727      3       0         0        2      3      1       1 -0.110398   \n",
       "\n",
       "          com2      com3      com4  class k-means pca  \n",
       "0     0.534425  2.006022 -0.783654                  0  \n",
       "1     1.142401  1.751271 -1.212944                  0  \n",
       "2    -0.073550  2.260773 -0.354364                  0  \n",
       "3     0.829880  1.155187 -1.237601                  0  \n",
       "4     1.437855  0.900436 -1.666891                  0  \n",
       "...        ...       ...       ...                ...  \n",
       "1723  0.683482 -0.795798  0.668515                  1  \n",
       "1724 -0.532469 -0.286297  1.527096                  2  \n",
       "1725  0.370961 -1.391883  0.643859                  2  \n",
       "1726  0.978937 -1.646633  0.214568                  1  \n",
       "1727 -0.237015 -1.137132  1.073149                  2  \n",
       "\n",
       "[1728 rows x 12 columns]"
      ]
     },
     "execution_count": 15,
     "metadata": {},
     "output_type": "execute_result"
    }
   ],
   "source": [
    "df_pca_kmeans=pd.concat([df.reset_index(drop=True),pd.DataFrame(scores_pca)],axis=1)\n",
    "df_pca_kmeans.columns.values[-4:]=[\"com1\",\"com2\",\"com3\",\"com4\"]\n",
    "df_pca_kmeans[\"class k-means pca\"]=labels\n",
    "df_pca_kmeans"
   ]
  },
  {
   "cell_type": "code",
   "execution_count": 101,
   "metadata": {},
   "outputs": [],
   "source": [
    "from sklearn.cluster import KMeans\n",
    "kmeans = KMeans(n_clusters=4)\n",
    "y_pred = kmeans.fit_predict(X)"
   ]
  },
  {
   "cell_type": "code",
   "execution_count": 102,
   "metadata": {},
   "outputs": [
    {
     "data": {
      "text/plain": [
       "DBSCAN(algorithm='auto', eps=0.123, leaf_size=30, metric='euclidean',\n",
       "       metric_params=None, min_samples=2, n_jobs=None, p=None)"
      ]
     },
     "execution_count": 102,
     "metadata": {},
     "output_type": "execute_result"
    }
   ],
   "source": [
    "from sklearn.cluster import DBSCAN\n",
    "from sklearn.preprocessing import StandardScaler\n",
    "scaler = StandardScaler()\n",
    "X_scaled = scaler.fit_transform(X)\n",
    "dbscan = DBSCAN(eps=0.123, min_samples = 2)\n",
    "clusters = dbscan.fit_predict(X_scaled)\n",
    "dbscan.fit(X)"
   ]
  },
  {
   "cell_type": "code",
   "execution_count": 103,
   "metadata": {},
   "outputs": [
    {
     "data": {
      "text/plain": [
       "AgglomerativeClustering(affinity='euclidean', compute_full_tree='auto',\n",
       "                        connectivity=None, distance_threshold=None,\n",
       "                        linkage='ward', memory=None, n_clusters=2,\n",
       "                        pooling_func='deprecated')"
      ]
     },
     "execution_count": 103,
     "metadata": {},
     "output_type": "execute_result"
    }
   ],
   "source": [
    "from sklearn.cluster import AgglomerativeClustering\n",
    "import numpy as np\n",
    "clustering = AgglomerativeClustering().fit(X)\n",
    "clustering"
   ]
  },
  {
   "cell_type": "code",
   "execution_count": 13,
   "metadata": {},
   "outputs": [
    {
     "data": {
      "image/png": "[encoded data removed]",
      "text/plain": [
       "<Figure size 1800x720 with 1 Axes>"
      ]
     },
     "metadata": {
      "needs_background": "light"
     },
     "output_type": "display_data"
    }
   ],
   "source": [
    "from scipy.cluster.hierarchy import dendrogram, linkage\n",
    "Z = linkage(df, 'ward')\n",
    "max_d = 7.08\n",
    "plt.figure(figsize=(25, 10))\n",
    "plt.title('car evaluation Hierarchical Clustering Dendrogram')\n",
    "dendrogram(\n",
    "    Z,\n",
    "    truncate_mode='lastp',  \n",
    "    p=150,                  \n",
    "    leaf_rotation=90.,      \n",
    "    leaf_font_size=8.,      \n",
    ")\n",
    "plt.axhline(y=max_d, c='k')\n",
    "plt.show()"
   ]
  },
  {
   "cell_type": "code",
   "execution_count": null,
   "metadata": {},
   "outputs": [],
   "source": []
  }
 ],
 "metadata": {
  "kernelspec": {
   "display_name": "Python 3",
   "language": "python",
   "name": "python3"
  },
  "language_info": {
   "codemirror_mode": {
    "name": "ipython",
    "version": 3
   },
   "file_extension": ".py",
   "mimetype": "text/x-python",
   "name": "python",
   "nbconvert_exporter": "python",
   "pygments_lexer": "ipython3",
   "version": "3.7.4"
  }
 },
 "nbformat": 4,
 "nbformat_minor": 2
}
