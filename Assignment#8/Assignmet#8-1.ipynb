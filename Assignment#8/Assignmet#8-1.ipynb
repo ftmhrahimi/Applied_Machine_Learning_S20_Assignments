{
 "cells": [
  {
   "cell_type": "code",
   "execution_count": 5,
   "metadata": {},
   "outputs": [
    {
     "data": {
      "text/html": [
       "<div>\n",
       "<style scoped>\n",
       "    .dataframe tbody tr th:only-of-type {\n",
       "        vertical-align: middle;\n",
       "    }\n",
       "\n",
       "    .dataframe tbody tr th {\n",
       "        vertical-align: top;\n",
       "    }\n",
       "\n",
       "    .dataframe thead th {\n",
       "        text-align: right;\n",
       "    }\n",
       "</style>\n",
       "<table border=\"1\" class=\"dataframe\">\n",
       "  <thead>\n",
       "    <tr style=\"text-align: right;\">\n",
       "      <th></th>\n",
       "      <th>gender</th>\n",
       "      <th>race/ethnicity</th>\n",
       "      <th>parental level of education</th>\n",
       "      <th>lunch</th>\n",
       "      <th>test preparation course</th>\n",
       "      <th>math score</th>\n",
       "      <th>reading score</th>\n",
       "      <th>writing score</th>\n",
       "    </tr>\n",
       "  </thead>\n",
       "  <tbody>\n",
       "    <tr>\n",
       "      <td>0</td>\n",
       "      <td>female</td>\n",
       "      <td>group B</td>\n",
       "      <td>bachelor's degree</td>\n",
       "      <td>standard</td>\n",
       "      <td>none</td>\n",
       "      <td>72</td>\n",
       "      <td>72</td>\n",
       "      <td>74</td>\n",
       "    </tr>\n",
       "    <tr>\n",
       "      <td>1</td>\n",
       "      <td>female</td>\n",
       "      <td>group C</td>\n",
       "      <td>some college</td>\n",
       "      <td>standard</td>\n",
       "      <td>completed</td>\n",
       "      <td>69</td>\n",
       "      <td>90</td>\n",
       "      <td>88</td>\n",
       "    </tr>\n",
       "    <tr>\n",
       "      <td>2</td>\n",
       "      <td>female</td>\n",
       "      <td>group B</td>\n",
       "      <td>master's degree</td>\n",
       "      <td>standard</td>\n",
       "      <td>none</td>\n",
       "      <td>90</td>\n",
       "      <td>95</td>\n",
       "      <td>93</td>\n",
       "    </tr>\n",
       "    <tr>\n",
       "      <td>3</td>\n",
       "      <td>male</td>\n",
       "      <td>group A</td>\n",
       "      <td>associate's degree</td>\n",
       "      <td>free/reduced</td>\n",
       "      <td>none</td>\n",
       "      <td>47</td>\n",
       "      <td>57</td>\n",
       "      <td>44</td>\n",
       "    </tr>\n",
       "    <tr>\n",
       "      <td>4</td>\n",
       "      <td>male</td>\n",
       "      <td>group C</td>\n",
       "      <td>some college</td>\n",
       "      <td>standard</td>\n",
       "      <td>none</td>\n",
       "      <td>76</td>\n",
       "      <td>78</td>\n",
       "      <td>75</td>\n",
       "    </tr>\n",
       "    <tr>\n",
       "      <td>...</td>\n",
       "      <td>...</td>\n",
       "      <td>...</td>\n",
       "      <td>...</td>\n",
       "      <td>...</td>\n",
       "      <td>...</td>\n",
       "      <td>...</td>\n",
       "      <td>...</td>\n",
       "      <td>...</td>\n",
       "    </tr>\n",
       "    <tr>\n",
       "      <td>995</td>\n",
       "      <td>female</td>\n",
       "      <td>group E</td>\n",
       "      <td>master's degree</td>\n",
       "      <td>standard</td>\n",
       "      <td>completed</td>\n",
       "      <td>88</td>\n",
       "      <td>99</td>\n",
       "      <td>95</td>\n",
       "    </tr>\n",
       "    <tr>\n",
       "      <td>996</td>\n",
       "      <td>male</td>\n",
       "      <td>group C</td>\n",
       "      <td>high school</td>\n",
       "      <td>free/reduced</td>\n",
       "      <td>none</td>\n",
       "      <td>62</td>\n",
       "      <td>55</td>\n",
       "      <td>55</td>\n",
       "    </tr>\n",
       "    <tr>\n",
       "      <td>997</td>\n",
       "      <td>female</td>\n",
       "      <td>group C</td>\n",
       "      <td>high school</td>\n",
       "      <td>free/reduced</td>\n",
       "      <td>completed</td>\n",
       "      <td>59</td>\n",
       "      <td>71</td>\n",
       "      <td>65</td>\n",
       "    </tr>\n",
       "    <tr>\n",
       "      <td>998</td>\n",
       "      <td>female</td>\n",
       "      <td>group D</td>\n",
       "      <td>some college</td>\n",
       "      <td>standard</td>\n",
       "      <td>completed</td>\n",
       "      <td>68</td>\n",
       "      <td>78</td>\n",
       "      <td>77</td>\n",
       "    </tr>\n",
       "    <tr>\n",
       "      <td>999</td>\n",
       "      <td>female</td>\n",
       "      <td>group D</td>\n",
       "      <td>some college</td>\n",
       "      <td>free/reduced</td>\n",
       "      <td>none</td>\n",
       "      <td>77</td>\n",
       "      <td>86</td>\n",
       "      <td>86</td>\n",
       "    </tr>\n",
       "  </tbody>\n",
       "</table>\n",
       "<p>1000 rows × 8 columns</p>\n",
       "</div>"
      ],
      "text/plain": [
       "     gender race/ethnicity parental level of education         lunch  \\\n",
       "0    female        group B           bachelor's degree      standard   \n",
       "1    female        group C                some college      standard   \n",
       "2    female        group B             master's degree      standard   \n",
       "3      male        group A          associate's degree  free/reduced   \n",
       "4      male        group C                some college      standard   \n",
       "..      ...            ...                         ...           ...   \n",
       "995  female        group E             master's degree      standard   \n",
       "996    male        group C                 high school  free/reduced   \n",
       "997  female        group C                 high school  free/reduced   \n",
       "998  female        group D                some college      standard   \n",
       "999  female        group D                some college  free/reduced   \n",
       "\n",
       "    test preparation course  math score  reading score  writing score  \n",
       "0                      none          72             72             74  \n",
       "1                 completed          69             90             88  \n",
       "2                      none          90             95             93  \n",
       "3                      none          47             57             44  \n",
       "4                      none          76             78             75  \n",
       "..                      ...         ...            ...            ...  \n",
       "995               completed          88             99             95  \n",
       "996                    none          62             55             55  \n",
       "997               completed          59             71             65  \n",
       "998               completed          68             78             77  \n",
       "999                    none          77             86             86  \n",
       "\n",
       "[1000 rows x 8 columns]"
      ]
     },
     "execution_count": 5,
     "metadata": {},
     "output_type": "execute_result"
    }
   ],
   "source": [
    "import pandas as pd\n",
    "MyData=pd.read_csv(\"data.csv\")\n",
    "MyData"
   ]
  },
  {
   "cell_type": "code",
   "execution_count": 6,
   "metadata": {},
   "outputs": [],
   "source": [
    "from numpy import array\n",
    "from sklearn.preprocessing import LabelEncoder\n",
    "values1 =array(MyData[\"race/ethnicity\"])\n",
    "values2 =array(MyData[\"parental level of education\"])\n",
    "values3 =array(MyData[\"lunch\"])\n",
    "values4 =array(MyData[\"test preparation course\"])\n",
    "values5 =array(MyData[\"gender\"])\n",
    "MyData=MyData.drop(columns=[\"race/ethnicity\",\"parental level of education\",\"parental level of education\",\"test preparation course\",\"lunch\",\"gender\"]) \n",
    "\n",
    "label_encoder = LabelEncoder()\n",
    "integer_encoded1 = label_encoder.fit_transform(values1)\n",
    "integer_encoded2 = label_encoder.fit_transform(values2)\n",
    "integer_encoded3 = label_encoder.fit_transform(values3)\n",
    "integer_encoded4 = label_encoder.fit_transform(values4)\n",
    "integer_encoded5 = label_encoder.fit_transform(values5)\n",
    "values1=pd.DataFrame(integer_encoded1)\n",
    "values2=pd.DataFrame(integer_encoded2)\n",
    "values3=pd.DataFrame(integer_encoded3)\n",
    "values4=pd.DataFrame(integer_encoded4)\n",
    "values5=pd.DataFrame(integer_encoded5)\n",
    "result = pd.concat([values1, MyData], axis=1, join='inner')\n",
    "result.rename(columns={0:\"race/ethnicity\"}, inplace=True)\n",
    "result = pd.concat([values2, result], axis=1, join='inner')\n",
    "result.rename(columns={0:\"parental level of education\"}, inplace=True)\n",
    "result = pd.concat([values3, result], axis=1, join='inner')\n",
    "result.rename(columns={0:\"test preparation course\"}, inplace=True)\n",
    "result = pd.concat([values4, result], axis=1, join='inner')\n",
    "result.rename(columns={0:\"lunch\"}, inplace=True)\n",
    "result = pd.concat([values5, result], axis=1, join='inner')\n",
    "result.rename(columns={0:\"gender\"}, inplace=True)"
   ]
  },
  {
   "cell_type": "code",
   "execution_count": 8,
   "metadata": {},
   "outputs": [],
   "source": [
    "from sklearn.model_selection import train_test_split\n",
    "train_set, test_set = train_test_split(result, test_size=0.2, random_state=42)\n",
    "y_train=train_set[\"race/ethnicity\"]\n",
    "X_train=train_set.drop(['race/ethnicity'], axis=1)\n",
    "y_test=test_set[\"race/ethnicity\"]\n",
    "X_test=test_set.drop(['race/ethnicity'], axis=1)"
   ]
  },
  {
   "cell_type": "code",
   "execution_count": 34,
   "metadata": {},
   "outputs": [],
   "source": [
    "y_train_D = (y_train ==4)\n",
    "y_test_D = (y_test == 4)"
   ]
  },
  {
   "cell_type": "code",
   "execution_count": 35,
   "metadata": {},
   "outputs": [
    {
     "data": {
      "text/plain": [
       "SGDClassifier(alpha=0.0001, average=False, class_weight=None,\n",
       "              early_stopping=False, epsilon=0.1, eta0=0.0, fit_intercept=True,\n",
       "              l1_ratio=0.15, learning_rate='optimal', loss='hinge',\n",
       "              max_iter=1000, n_iter_no_change=5, n_jobs=None, penalty='l2',\n",
       "              power_t=0.5, random_state=42, shuffle=True, tol=0.001,\n",
       "              validation_fraction=0.1, verbose=0, warm_start=False)"
      ]
     },
     "execution_count": 35,
     "metadata": {},
     "output_type": "execute_result"
    }
   ],
   "source": [
    "from sklearn.linear_model import SGDClassifier\n",
    "sgd_clf = SGDClassifier(random_state=42)\n",
    "sgd_clf.fit(X_train, y_train_D)"
   ]
  },
  {
   "cell_type": "code",
   "execution_count": 36,
   "metadata": {},
   "outputs": [
    {
     "data": {
      "text/plain": [
       "array([0.85393258, 0.85393258, 0.84962406])"
      ]
     },
     "execution_count": 36,
     "metadata": {},
     "output_type": "execute_result"
    }
   ],
   "source": [
    "from sklearn.model_selection import cross_val_score\n",
    "cross_val_score(sgd_clf, X_train, y_train_D, cv=3, scoring=\"accuracy\")"
   ]
  },
  {
   "cell_type": "code",
   "execution_count": 37,
   "metadata": {},
   "outputs": [],
   "source": [
    "from sklearn.model_selection import cross_val_predict\n",
    "y_train_pred = cross_val_predict(sgd_clf, X_train, y_train_D, cv=3)"
   ]
  },
  {
   "cell_type": "code",
   "execution_count": 38,
   "metadata": {},
   "outputs": [
    {
     "data": {
      "text/plain": [
       "array([[677,   7],\n",
       "       [111,   5]], dtype=int64)"
      ]
     },
     "execution_count": 38,
     "metadata": {},
     "output_type": "execute_result"
    }
   ],
   "source": [
    "from sklearn.metrics import confusion_matrix\n",
    "confusion_matrix(y_train_D, y_train_pred)"
   ]
  },
  {
   "cell_type": "code",
   "execution_count": 39,
   "metadata": {},
   "outputs": [
    {
     "name": "stdout",
     "output_type": "stream",
     "text": [
      "precision_score is : 0.4166666666666667\n",
      "recall_score : 0.04310344827586207\n"
     ]
    }
   ],
   "source": [
    "from sklearn.metrics import precision_score, recall_score\n",
    "print(\"precision_score is :\",precision_score(y_train_D, y_train_pred))\n",
    "print(\"recall_score :\",recall_score(y_train_D, y_train_pred))"
   ]
  },
  {
   "cell_type": "code",
   "execution_count": 40,
   "metadata": {},
   "outputs": [
    {
     "data": {
      "text/plain": [
       "0.07812500000000001"
      ]
     },
     "execution_count": 40,
     "metadata": {},
     "output_type": "execute_result"
    }
   ],
   "source": [
    "from sklearn.metrics import f1_score\n",
    "f1_score(y_train_D, y_train_pred)\n"
   ]
  },
  {
   "cell_type": "code",
   "execution_count": 41,
   "metadata": {},
   "outputs": [
    {
     "data": {
      "text/plain": [
       "array([1, 1, 1, 1, 0, 1, 1, 0, 3, 1, 1, 1, 1, 0, 3, 3, 1, 1, 3, 1, 1, 1,\n",
       "       1, 1, 3, 0, 0, 3, 0, 3, 1, 0, 1, 0, 0, 1, 1, 1, 1, 1, 1, 1, 3, 0,\n",
       "       1, 3, 1, 3, 1, 1, 0, 4, 0, 0, 1, 1, 1, 1, 0, 1, 0, 0, 1, 1, 0, 0,\n",
       "       0, 1, 1, 1, 3, 3, 1, 0, 0, 1, 0, 1, 1, 1, 1, 0, 3, 1, 0, 1, 3, 1,\n",
       "       1, 1, 1, 3, 1, 3, 3, 1, 0, 1, 1, 1, 0, 1, 1, 0, 3, 3, 1, 1, 1, 3,\n",
       "       3, 0, 1, 1, 1, 0, 1, 1, 1, 1, 1, 1, 1, 0, 0, 1, 0, 1, 0, 1, 0, 0,\n",
       "       0, 1, 1, 0, 0, 0, 1, 3, 0, 3, 1, 3, 3, 1, 0, 1, 3, 1, 0, 1, 1, 0,\n",
       "       0, 1, 1, 0, 1, 3, 0, 1, 1, 1, 1, 1, 0, 1, 1, 0, 1, 0, 1, 1, 1, 1,\n",
       "       1, 1, 1, 1, 3, 1, 1, 1, 0, 1, 0, 0, 0, 1, 1, 0, 3, 0, 1, 1, 0, 0,\n",
       "       3, 1, 1, 1, 1, 1, 0, 3, 4, 0, 1, 3, 0, 0, 1, 3, 0, 0, 1, 1, 1, 0,\n",
       "       3, 0, 1, 0, 3, 1, 1, 3, 0, 1, 0, 1, 1, 0, 1, 1, 1, 3, 0, 1, 0, 1,\n",
       "       3, 0, 0, 4, 4, 1, 1, 0, 0, 1, 1, 0, 1, 1, 1, 1, 3, 1, 1, 0, 3, 1,\n",
       "       0, 0, 3, 3, 1, 0, 1, 0, 3, 1, 0, 0, 1, 3, 1, 4, 0, 1, 3, 1, 1, 1,\n",
       "       3, 1, 0, 0, 1, 0, 0, 1, 3, 1, 0, 1, 3, 0, 3, 0, 1, 0, 3, 3, 0, 0,\n",
       "       1, 1, 1, 0, 3, 1, 3, 0, 3, 3, 1, 1, 1, 1, 1, 1, 1, 3, 0, 0, 1, 1,\n",
       "       0, 0, 0, 3, 1, 1, 0, 1, 0, 3, 0, 1, 1, 1, 0, 1, 0, 1, 0, 4, 1, 0,\n",
       "       1, 1, 1, 1, 1, 1, 0, 1, 1, 0, 1, 0, 0, 1, 0, 1, 1, 1, 0, 1, 0, 1,\n",
       "       1, 1, 1, 3, 1, 1, 1, 1, 0, 1, 0, 1, 1, 1, 1, 3, 0, 3, 0, 1, 1, 0,\n",
       "       1, 3, 0, 0, 3, 0, 1, 1, 1, 1, 1, 1, 1, 1, 1, 0, 1, 0, 3, 0, 1, 1,\n",
       "       3, 0, 1, 3, 3, 1, 0, 0, 3, 0, 0, 0, 1, 1, 0, 0, 0, 3, 1, 3, 0, 0,\n",
       "       1, 1, 1, 1, 0, 1, 0, 0, 0, 1, 1, 3, 1, 0, 1, 1, 1, 1, 1, 3, 1, 0,\n",
       "       3, 1, 4, 3, 3, 0, 1, 0, 1, 3, 1, 0, 1, 3, 3, 3, 3, 1, 0, 1, 0, 0,\n",
       "       1, 1, 3, 1, 3, 1, 1, 3, 3, 1, 1, 1, 3, 1, 1, 0, 1, 1, 0, 1, 1, 0,\n",
       "       1, 1, 1, 1, 3, 0, 3, 1, 1, 1, 1, 1, 1, 1, 0, 1, 0, 0, 0, 0, 0, 1,\n",
       "       3, 1, 3, 1, 1, 1, 0, 1, 1, 1, 4, 4, 0, 1, 1, 1, 3, 0, 1, 0, 1, 0,\n",
       "       0, 1, 1, 0, 0, 0, 1, 1, 1, 0, 3, 1, 1, 1, 1, 1, 1, 3, 0, 1, 0, 1,\n",
       "       1, 1, 1, 1, 0, 1, 1, 3, 1, 1, 3, 1, 1, 1, 1, 1, 1, 1, 0, 0, 1, 1,\n",
       "       1, 1, 0, 0, 1, 1, 1, 1, 1, 0, 1, 0, 1, 1, 1, 1, 0, 3, 1, 1, 1, 3,\n",
       "       1, 3, 3, 1, 1, 0, 0, 0, 3, 0, 1, 0, 0, 3, 3, 3, 3, 1, 0, 0, 1, 1,\n",
       "       0, 1, 1, 1, 1, 1, 0, 1, 1, 3, 1, 1, 0, 1, 3, 1, 1, 1, 4, 0, 1, 1,\n",
       "       0, 0, 1, 1, 4, 1, 1, 1, 0, 3, 1, 1, 1, 1, 1, 1, 1, 1, 3, 0, 1, 1,\n",
       "       0, 3, 1, 1, 0, 1, 0, 0, 1, 1, 3, 1, 1, 1, 3, 1, 1, 0, 1, 3, 1, 3,\n",
       "       0, 1, 3, 0, 0, 1, 3, 1, 1, 3, 3, 1, 1, 1, 1, 3, 1, 0, 1, 0, 0, 0,\n",
       "       1, 3, 1, 0, 1, 0, 3, 0, 1, 3, 3, 3, 1, 0, 1, 1, 1, 1, 0, 1, 1, 3,\n",
       "       1, 0, 0, 0, 0, 1, 1, 1, 0, 3, 3, 1, 1, 1, 3, 1, 0, 1, 1, 0, 3, 0,\n",
       "       1, 1, 3, 1, 0, 1, 1, 1, 1, 4, 1, 1, 1, 1, 0, 1, 1, 1, 1, 1, 1, 3,\n",
       "       1, 0, 1, 1, 1, 1, 0, 1, 0, 0, 1, 1, 1, 0, 1, 1, 0, 0, 3, 3, 1, 0,\n",
       "       1, 0, 1, 3, 1, 1, 1, 1, 0, 1, 0, 1, 1, 3, 1, 0, 0, 1, 1, 3, 0, 3,\n",
       "       0, 1, 1, 1, 1, 0, 1, 0, 1, 0, 0, 0, 1, 1, 0, 1, 3, 0, 0, 1, 0, 1,\n",
       "       0, 4, 1, 1, 0, 3, 1, 3, 0, 4, 1, 1, 0, 3, 1, 1, 1, 0, 3, 0, 3, 1,\n",
       "       1, 1, 1, 0, 1, 1, 1, 1, 3, 1, 3, 1, 3, 0, 3, 3, 0, 1, 3, 1, 3, 1,\n",
       "       1, 1, 1, 0, 3, 3, 1, 3, 3, 1, 1, 1, 1, 0, 1, 1, 1, 0, 1, 1, 0, 1,\n",
       "       0, 0, 0, 3, 1, 0, 0, 3, 1, 1, 4, 0, 0, 1, 3, 0, 3, 3, 0, 0, 1, 1,\n",
       "       1, 1, 0, 1, 4, 3, 0, 0, 1, 3, 0, 1, 1, 1, 3, 0, 1, 1, 0, 1, 0, 0,\n",
       "       1, 1, 1, 0, 3, 1, 3, 1, 0, 1, 3, 1, 1, 0, 0, 1, 3, 3, 1, 0, 0, 1,\n",
       "       0, 1, 1, 1, 1, 1, 0, 1, 1, 1])"
      ]
     },
     "execution_count": 41,
     "metadata": {},
     "output_type": "execute_result"
    }
   ],
   "source": [
    "sgd_clf.fit(X_train, y_train) # y_train, not y_train_5\n",
    "WithoutGroup=result.drop(columns=[\"race/ethnicity\"])\n",
    "sgd_clf.predict(WithoutGroup)"
   ]
  },
  {
   "cell_type": "code",
   "execution_count": 42,
   "metadata": {},
   "outputs": [
    {
     "data": {
      "text/plain": [
       "array([[-1689.07020013, -1284.7364519 , -2592.52266583, -1475.90571958,\n",
       "        -2065.7813898 ],\n",
       "       [-1612.84234678, -1106.86732405, -2650.33134164, -1965.6329739 ,\n",
       "        -3196.6755951 ],\n",
       "       [-1807.37431908, -1521.69765667, -3413.10555746, -2129.49845467,\n",
       "        -2571.02933949],\n",
       "       ...,\n",
       "       [-1040.19003258,  -799.74662997, -2326.30245231, -2005.50898443,\n",
       "        -1876.9685171 ],\n",
       "       [-1355.6676831 , -1131.37373722, -2595.22540911, -1726.53267638,\n",
       "        -2541.00058554],\n",
       "       [-1621.71043863, -1358.25569141, -3020.6071716 , -1633.07327671,\n",
       "        -2800.21105595]])"
      ]
     },
     "execution_count": 42,
     "metadata": {},
     "output_type": "execute_result"
    }
   ],
   "source": [
    "import numpy as np\n",
    "some_digit_scores = sgd_clf.decision_function(WithoutGroup)\n",
    "np.argmax(some_digit_scores)\n",
    "some_digit_scores"
   ]
  },
  {
   "cell_type": "code",
   "execution_count": 43,
   "metadata": {},
   "outputs": [
    {
     "data": {
      "text/plain": [
       "4"
      ]
     },
     "execution_count": 43,
     "metadata": {},
     "output_type": "execute_result"
    }
   ],
   "source": [
    "sgd_clf.classes_\n",
    "sgd_clf.classes_[4]"
   ]
  },
  {
   "cell_type": "code",
   "execution_count": 44,
   "metadata": {},
   "outputs": [
    {
     "name": "stderr",
     "output_type": "stream",
     "text": [
      "C:\\Users\\user\\Anaconda3\\lib\\site-packages\\sklearn\\ensemble\\forest.py:245: FutureWarning: The default value of n_estimators will change from 10 in version 0.20 to 100 in 0.22.\n",
      "  \"10 in version 0.20 to 100 in 0.22.\", FutureWarning)\n"
     ]
    },
    {
     "data": {
      "text/plain": [
       "array([1, 2, 1, 0, 2, 1, 1, 1, 3, 1, 2, 3, 1, 0, 0, 2, 2, 1, 2, 2, 3, 1,\n",
       "       3, 4, 3, 3, 1, 2, 2, 3, 4, 1, 4, 3, 4, 4, 3, 3, 3, 2, 2, 2, 1, 1,\n",
       "       3, 1, 0, 2, 3, 2, 4, 4, 2, 3, 3, 2, 4, 3, 3, 1, 4, 0, 0, 2, 3, 1,\n",
       "       0, 2, 1, 2, 2, 3, 3, 2, 2, 1, 1, 0, 1, 4, 1, 1, 0, 4, 3, 2, 3, 3,\n",
       "       2, 3, 2, 2, 2, 2, 1, 2, 0, 4, 3, 2, 1, 2, 3, 1, 2, 2, 3, 3, 1, 1,\n",
       "       2, 2, 0, 3, 4, 2, 1, 3, 3, 2, 3, 1, 2, 3, 4, 1, 1, 3, 3, 0, 3, 2,\n",
       "       4, 2, 3, 2, 2, 1, 2, 3, 3, 2, 4, 0, 2, 2, 1, 2, 3, 4, 0, 0, 1, 3,\n",
       "       3, 2, 4, 1, 2, 3, 1, 4, 1, 2, 4, 2, 2, 1, 2, 2, 0, 4, 3, 2, 1, 2,\n",
       "       1, 2, 1, 3, 2, 2, 4, 2, 2, 2, 4, 1, 1, 2, 4, 3, 1, 3, 2, 3, 2, 4,\n",
       "       4, 3, 2, 3, 2, 1, 2, 3, 4, 4, 3, 2, 3, 2, 2, 2, 4, 4, 4, 2, 3, 1,\n",
       "       3, 1, 2, 3, 1, 4, 2, 3, 0, 2, 3, 2, 1, 4, 2, 3, 3, 3, 1, 2, 3, 4,\n",
       "       3, 4, 3, 2, 4, 1, 1, 2, 0, 3, 1, 3, 1, 4, 2, 2, 1, 3, 1, 2, 2, 4,\n",
       "       3, 0, 2, 3, 3, 4, 2, 2, 3, 3, 1, 2, 2, 2, 2, 1, 2, 1, 3, 3, 1, 1,\n",
       "       4, 1, 1, 2, 2, 3, 1, 4, 2, 1, 2, 4, 2, 1, 0, 3, 2, 1, 2, 0, 4, 0,\n",
       "       1, 2, 1, 1, 1, 2, 0, 2, 3, 2, 0, 2, 2, 2, 2, 2, 2, 2, 2, 2, 2, 1,\n",
       "       2, 2, 3, 1, 2, 1, 3, 2, 1, 3, 2, 2, 1, 3, 3, 2, 2, 2, 3, 4, 1, 2,\n",
       "       2, 2, 2, 2, 0, 2, 3, 3, 1, 4, 2, 1, 2, 2, 2, 2, 0, 3, 2, 2, 3, 3,\n",
       "       3, 4, 3, 3, 0, 0, 1, 2, 0, 4, 0, 4, 4, 2, 3, 3, 4, 3, 4, 2, 2, 0,\n",
       "       1, 2, 1, 3, 2, 0, 0, 3, 2, 2, 1, 1, 2, 3, 3, 3, 3, 1, 2, 4, 2, 2,\n",
       "       3, 4, 2, 3, 3, 0, 1, 1, 2, 2, 0, 3, 2, 2, 1, 0, 2, 2, 2, 3, 2, 4,\n",
       "       2, 3, 0, 1, 0, 2, 3, 2, 1, 1, 2, 2, 2, 2, 2, 2, 3, 3, 4, 1, 2, 1,\n",
       "       2, 2, 0, 2, 3, 0, 0, 2, 2, 2, 2, 3, 1, 3, 4, 3, 3, 2, 1, 3, 2, 2,\n",
       "       1, 2, 3, 2, 1, 0, 0, 2, 2, 1, 1, 3, 2, 3, 1, 3, 3, 1, 2, 1, 3, 1,\n",
       "       0, 2, 2, 2, 3, 0, 3, 2, 1, 2, 3, 4, 3, 1, 3, 2, 1, 2, 2, 4, 3, 2,\n",
       "       2, 2, 2, 2, 4, 4, 1, 2, 2, 3, 4, 0, 2, 3, 1, 0, 3, 4, 0, 2, 4, 4,\n",
       "       2, 1, 1, 3, 2, 2, 2, 2, 1, 2, 3, 2, 2, 3, 1, 1, 4, 3, 1, 3, 4, 0,\n",
       "       2, 2, 4, 0, 0, 1, 4, 3, 3, 4, 3, 2, 2, 2, 0, 2, 2, 2, 2, 0, 4, 4,\n",
       "       2, 0, 1, 0, 3, 2, 3, 1, 4, 3, 4, 2, 2, 2, 2, 1, 3, 2, 2, 2, 0, 2,\n",
       "       4, 2, 3, 2, 2, 2, 2, 0, 4, 3, 2, 3, 3, 2, 3, 1, 1, 2, 3, 2, 1, 3,\n",
       "       4, 3, 3, 3, 1, 2, 2, 1, 3, 4, 1, 3, 2, 0, 2, 0, 1, 1, 0, 3, 3, 3,\n",
       "       3, 2, 2, 2, 3, 2, 2, 1, 3, 3, 1, 3, 2, 2, 3, 1, 4, 0, 1, 1, 3, 1,\n",
       "       1, 2, 1, 4, 4, 3, 0, 4, 2, 4, 1, 3, 2, 3, 2, 2, 2, 2, 4, 1, 0, 3,\n",
       "       1, 0, 3, 2, 3, 3, 2, 4, 3, 3, 1, 1, 2, 2, 2, 4, 2, 2, 1, 2, 1, 4,\n",
       "       4, 4, 3, 2, 1, 0, 2, 3, 4, 2, 2, 3, 3, 2, 3, 3, 2, 2, 1, 3, 3, 2,\n",
       "       2, 1, 3, 4, 2, 2, 2, 4, 3, 4, 3, 1, 2, 2, 3, 1, 2, 1, 2, 4, 3, 0,\n",
       "       1, 3, 1, 2, 1, 1, 1, 2, 0, 4, 3, 1, 1, 2, 2, 1, 4, 1, 2, 2, 1, 3,\n",
       "       3, 4, 1, 4, 3, 4, 4, 2, 3, 2, 2, 1, 2, 0, 3, 2, 2, 1, 3, 3, 2, 4,\n",
       "       2, 1, 2, 3, 1, 2, 2, 3, 2, 3, 2, 2, 4, 2, 3, 0, 0, 2, 0, 1, 1, 2,\n",
       "       4, 2, 1, 2, 3, 2, 1, 1, 3, 3, 2, 3, 2, 1, 2, 0, 4, 4, 2, 1, 1, 2,\n",
       "       1, 4, 2, 4, 3, 2, 2, 3, 2, 2, 4, 2, 1, 2, 1, 4, 2, 2, 3, 2, 3, 2,\n",
       "       2, 4, 1, 1, 0, 2, 4, 2, 3, 3, 4, 4, 3, 4, 4, 4, 1, 1, 3, 1, 3, 2,\n",
       "       1, 3, 3, 3, 1, 3, 2, 4, 3, 0, 2, 2, 2, 4, 4, 2, 2, 1, 3, 2, 3, 1,\n",
       "       3, 4, 4, 3, 4, 2, 2, 3, 3, 2, 4, 3, 1, 4, 2, 3, 2, 3, 1, 0, 1, 2,\n",
       "       1, 2, 2, 4, 4, 3, 4, 2, 2, 4, 2, 3, 3, 3, 0, 3, 4, 2, 3, 3, 0, 2,\n",
       "       4, 1, 3, 2, 0, 0, 2, 2, 1, 0, 1, 2, 1, 3, 1, 0, 2, 3, 1, 4, 0, 2,\n",
       "       4, 2, 3, 3, 0, 3, 2, 2, 0, 3])"
      ]
     },
     "execution_count": 44,
     "metadata": {},
     "output_type": "execute_result"
    }
   ],
   "source": [
    "from sklearn.ensemble import RandomForestClassifier\n",
    "forest_clf = RandomForestClassifier(random_state=42)\n",
    "forest_clf.fit(X_train, y_train)\n",
    "forest_clf.predict(WithoutGroup)"
   ]
  },
  {
   "cell_type": "code",
   "execution_count": 45,
   "metadata": {},
   "outputs": [
    {
     "data": {
      "text/plain": [
       "array([0.25      , 0.29588015, 0.32075472])"
      ]
     },
     "execution_count": 45,
     "metadata": {},
     "output_type": "execute_result"
    }
   ],
   "source": [
    "from sklearn.preprocessing import StandardScaler\n",
    "from sklearn.model_selection import cross_val_score\n",
    "scaler = StandardScaler()\n",
    "X_train_scaled = scaler.fit_transform(X_train.astype(np.float64))\n",
    "cross_val_score(sgd_clf, X_train_scaled, y_train, cv=3, scoring=\"accuracy\")"
   ]
  },
  {
   "cell_type": "code",
   "execution_count": 46,
   "metadata": {},
   "outputs": [
    {
     "data": {
      "text/plain": [
       "array([[  2,  17,  25,  14,  11],\n",
       "       [ 12,  28,  60,  35,  18],\n",
       "       [ 11,  46, 109,  64,  30],\n",
       "       [ 13,  26,  91,  60,  12],\n",
       "       [  6,  25,  34,  19,  32]], dtype=int64)"
      ]
     },
     "execution_count": 46,
     "metadata": {},
     "output_type": "execute_result"
    }
   ],
   "source": [
    "from sklearn.model_selection import cross_val_predict\n",
    "from sklearn.metrics import confusion_matrix\n",
    "y_train_pred = cross_val_predict(sgd_clf, X_train_scaled, y_train, cv=3)\n",
    "conf_mx = confusion_matrix(y_train, y_train_pred)\n",
    "conf_mx"
   ]
  },
  {
   "cell_type": "code",
   "execution_count": 47,
   "metadata": {},
   "outputs": [
    {
     "data": {
      "image/png": "[encoded data removed]",
      "text/plain": [
       "<Figure size 288x288 with 1 Axes>"
      ]
     },
     "metadata": {
      "needs_background": "light"
     },
     "output_type": "display_data"
    }
   ],
   "source": [
    "import matplotlib.pyplot as plt\n",
    "plt.matshow(conf_mx, cmap=plt.cm.gray)\n",
    "plt.show()"
   ]
  },
  {
   "cell_type": "code",
   "execution_count": 48,
   "metadata": {},
   "outputs": [
    {
     "data": {
      "image/png": "[encoded data removed]",
      "text/plain": [
       "<Figure size 288x288 with 1 Axes>"
      ]
     },
     "metadata": {
      "needs_background": "light"
     },
     "output_type": "display_data"
    }
   ],
   "source": [
    "row_sums = conf_mx.sum(axis=1, keepdims=True)\n",
    "norm_conf_mx = conf_mx / row_sums\n",
    "np.fill_diagonal(norm_conf_mx, 0)\n",
    "plt.matshow(norm_conf_mx, cmap=plt.cm.gray)\n",
    "plt.show()"
   ]
  },
  {
   "cell_type": "code",
   "execution_count": null,
   "metadata": {},
   "outputs": [],
   "source": []
  }
 ],
 "metadata": {
  "kernelspec": {
   "display_name": "Python 3",
   "language": "python",
   "name": "python3"
  },
  "language_info": {
   "codemirror_mode": {
    "name": "ipython",
    "version": 3
   },
   "file_extension": ".py",
   "mimetype": "text/x-python",
   "name": "python",
   "nbconvert_exporter": "python",
   "pygments_lexer": "ipython3",
   "version": "3.7.4"
  }
 },
 "nbformat": 4,
 "nbformat_minor": 2
}
